{
 "cells": [
  {
   "cell_type": "markdown",
   "metadata": {},
   "source": [
    "### **Streaming data from Kafka to Elasticsearch using Apache Flink and Monitoring using Kibana**\n",
    "\n",
    "In this experience, you will learn how to build and run an end-to-end PyFlink pipeline for data analytics, covering the following steps:\n",
    "\n",
    "* Reading data from a Kafka source;\n",
    "* Creating data using a UDF;\n",
    "* Performing a simple aggregation over the source data;\n",
    "* Writing the results to Elasticsearch and visualizing them in Kibana.\n",
    "\n",
    "\n",
    "For more details, you can follow this [link](https://github.com/apache/flink-playgrounds/tree/master/pyflink-walkthrough)."
   ]
  },
  {
   "cell_type": "markdown",
   "metadata": {},
   "source": [
    "![alt text](img/flink002_architecture.png)"
   ]
  },
  {
   "cell_type": "markdown",
   "metadata": {},
   "source": [
    "**Pipeline Components:**\n",
    "\n",
    "* Apache Kafka\n",
    "* Apache Flink\n",
    "* Elasticsearch\n",
    "* Kibana\n"
   ]
  },
  {
   "cell_type": "code",
   "execution_count": 4,
   "metadata": {},
   "outputs": [],
   "source": [
    "##Embedding IP into notebook\n",
    "from dotenv import load_dotenv\n",
    "import os\n",
    "\n",
    "load_dotenv()\n",
    "ip = os.environ.get(\"PUBLIC_IP\")\n",
    "ip=\"18.193.119.47\""
   ]
  },
  {
   "cell_type": "markdown",
   "metadata": {},
   "source": [
    "### Step 1:"
   ]
  },
  {
   "cell_type": "code",
   "execution_count": 5,
   "metadata": {
    "scrolled": true
   },
   "outputs": [
    {
     "data": {
      "text/html": [
       "\n",
       "        <iframe\n",
       "            width=\"1000\"\n",
       "            height=\"400\"\n",
       "            src=\"http://18.193.119.47:8888/terminals/1\"\n",
       "            frameborder=\"0\"\n",
       "            allowfullscreen\n",
       "        ></iframe>\n",
       "        "
      ],
      "text/plain": [
       "<IPython.lib.display.IFrame at 0x7ff0401d7520>"
      ]
     },
     "execution_count": 5,
     "metadata": {},
     "output_type": "execute_result"
    }
   ],
   "source": [
    "from IPython.display import IFrame\n",
    "\n",
    "#Run cell to activate Terminal 1\n",
    "\n",
    "terminal_link_ksql = f'http://{ip}:8888/terminals/1'   \n",
    "IFrame(terminal_link_ksql, width=1000, height=400)\n",
    "\n",
    "#You can use the following command to read data from the Kafka topic and check whether it's generated correctly:\n",
    "## docker-compose exec kafka kafka-console-consumer.sh --bootstrap-server kafka:9092 --topic payment_msg\n",
    "# CTRL+C to close the kafka consumer in terminal\n",
    "\n",
    "#Submit the PyFlink job by running the following code in terminal \n",
    "##docker-compose exec jobmanager ./bin/flink run -py /opt/pyflink-walkthrough/payment_msg_proccessing.py -d"
   ]
  },
  {
   "cell_type": "markdown",
   "metadata": {},
   "source": [
    "   Navigate to the Flink Web UI after the job is submitted successfully. There should be a job in the running job list. Click the job to get more details. \n",
    "\n",
    "   You should see that the StreamGraph of the payment_msg_proccessing consists of two nodes, each with a parallelism of 1. \n",
    "\n",
    "   There is also a table in the bottom of the page that shows some metrics for each node (e.g. bytes received/sent, records received/sent). \n",
    "\n",
    "   Note that Flink's metrics only report bytes and records and records communicated within the Flink cluster, and so will always report 0 bytes and 0 records received by sources, and 0 bytes and 0 records sent to sinks - so don't be confused that noting is reported as being read from Kafka, or written to Elasticsearch."
   ]
  },
  {
   "cell_type": "code",
   "execution_count": 6,
   "metadata": {
    "scrolled": false
   },
   "outputs": [
    {
     "data": {
      "text/html": [
       "\n",
       "        <iframe\n",
       "            width=\"1000\"\n",
       "            height=\"400\"\n",
       "            src=\"http://18.193.119.47:8081/\"\n",
       "            frameborder=\"0\"\n",
       "            allowfullscreen\n",
       "        ></iframe>\n",
       "        "
      ],
      "text/plain": [
       "<IPython.lib.display.IFrame at 0x7ff0401c6cd0>"
      ]
     },
     "execution_count": 6,
     "metadata": {},
     "output_type": "execute_result"
    }
   ],
   "source": [
    "#Run cell to activate Flink Web UI\n",
    "\n",
    "flink = f'http://{ip}:8081/'   \n",
    "IFrame(flink, width=1000, height=400)"
   ]
  },
  {
   "cell_type": "markdown",
   "metadata": {},
   "source": [
    "### Step 2:"
   ]
  },
  {
   "cell_type": "markdown",
   "metadata": {},
   "source": [
    "Navigate to the Kibana UI, open the menu list by clicking the menu button in the upper left corner, then choose the Dashboard item to turn to the dashboard page and choose the pre-created dashboard payment_dashboard. \n",
    "\n",
    "There will be a vertical bar chart and a pie chart demonstrating the total amount and the proportion of each province."
   ]
  },
  {
   "cell_type": "code",
   "execution_count": 7,
   "metadata": {
    "scrolled": true
   },
   "outputs": [
    {
     "data": {
      "text/html": [
       "\n",
       "        <iframe\n",
       "            width=\"1000\"\n",
       "            height=\"400\"\n",
       "            src=\"http://18.193.119.47:5601/\"\n",
       "            frameborder=\"0\"\n",
       "            allowfullscreen\n",
       "        ></iframe>\n",
       "        "
      ],
      "text/plain": [
       "<IPython.lib.display.IFrame at 0x7ff0401d9940>"
      ]
     },
     "execution_count": 7,
     "metadata": {},
     "output_type": "execute_result"
    }
   ],
   "source": [
    "#Run cell to activate Kibana UI\n",
    "\n",
    "kibana = f'http://{ip}:5601/'   \n",
    "IFrame(kibana, width=1000, height=400)"
   ]
  },
  {
   "cell_type": "markdown",
   "metadata": {},
   "source": [
    "### Step 3:"
   ]
  },
  {
   "cell_type": "markdown",
   "metadata": {},
   "source": [
    "Stop the PyFlink job\n",
    "\n",
    "Visit the Flink Web UI , select the job, and click *Cancel Job* in the upper right corner."
   ]
  },
  {
   "cell_type": "code",
   "execution_count": 8,
   "metadata": {},
   "outputs": [
    {
     "data": {
      "text/html": [
       "\n",
       "        <iframe\n",
       "            width=\"1000\"\n",
       "            height=\"400\"\n",
       "            src=\"http://18.193.119.47:8081/\"\n",
       "            frameborder=\"0\"\n",
       "            allowfullscreen\n",
       "        ></iframe>\n",
       "        "
      ],
      "text/plain": [
       "<IPython.lib.display.IFrame at 0x7ff0401d7430>"
      ]
     },
     "execution_count": 8,
     "metadata": {},
     "output_type": "execute_result"
    }
   ],
   "source": [
    "#Run cell to activate Flink Web UI\n",
    "\n",
    "IFrame(flink, width=1000, height=400)"
   ]
  }
 ],
 "metadata": {
  "kernelspec": {
   "display_name": "Python 3",
   "language": "python",
   "name": "python3"
  },
  "language_info": {
   "codemirror_mode": {
    "name": "ipython",
    "version": 3
   },
   "file_extension": ".py",
   "mimetype": "text/x-python",
   "name": "python",
   "nbconvert_exporter": "python",
   "pygments_lexer": "ipython3",
   "version": "3.8.10"
  }
 },
 "nbformat": 4,
 "nbformat_minor": 4
}
